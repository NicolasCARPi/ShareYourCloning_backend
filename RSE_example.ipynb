{
  "nbformat": 4,
  "nbformat_minor": 0,
  "metadata": {
    "colab": {
      "provenance": [],
      "authorship_tag": "ABX9TyN7y+Nsjw11822wKUClMyc/",
      "include_colab_link": true
    },
    "kernelspec": {
      "name": "python3",
      "display_name": "Python 3"
    },
    "language_info": {
      "name": "python"
    }
  },
  "cells": [
    {
      "cell_type": "markdown",
      "metadata": {
        "id": "view-in-github",
        "colab_type": "text"
      },
      "source": [
        "<a href=\"https://colab.research.google.com/github/manulera/ShareYourCloning_backend/blob/master/RSE_example.ipynb\" target=\"_parent\"><img src=\"https://colab.research.google.com/assets/colab-badge.svg\" alt=\"Open In Colab\"/></a>"
      ]
    },
    {
      "cell_type": "code",
      "execution_count": null,
      "metadata": {
        "id": "3Q224Wx3btex"
      },
      "outputs": [],
      "source": []
    },
    {
      "cell_type": "code",
      "source": [
        "# Get files to import sequences from them\n",
        "\n",
        "\n",
        "'https://raw.githubusercontent.com/manulera/ShareYourCloning_backend/master/dna_functions.py'"
      ],
      "metadata": {
        "id": "h7eoi6QvcpwS"
      },
      "execution_count": null,
      "outputs": []
    }
  ]
}